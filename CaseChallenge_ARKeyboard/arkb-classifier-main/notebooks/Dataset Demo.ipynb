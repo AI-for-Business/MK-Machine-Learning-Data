{
 "cells": [
  {
   "cell_type": "markdown",
   "id": "9c2d09d7",
   "metadata": {
    "pycharm": {
     "name": "#%% md\n"
    }
   },
   "source": [
    "## Imports"
   ]
  },
  {
   "cell_type": "code",
   "execution_count": null,
   "id": "e68cca28",
   "metadata": {
    "pycharm": {
     "name": "#%%\n"
    }
   },
   "outputs": [],
   "source": [
    "import sys\n",
    "import os\n",
    "import time\n",
    "\n",
    "module_path = os.path.abspath(os.path.join('..'))\n",
    "if module_path not in sys.path:\n",
    "    sys.path.append(module_path + \"\\\\models\")\n",
    "    \n",
    "from sklearn.pipeline import Pipeline\n",
    "from sktime.classification.interval_based import TimeSeriesForestClassifier\n",
    "from sktime.transformations.panel.compose import ColumnConcatenator\n",
    "from sklearn.model_selection import train_test_split\n",
    "from sklearn.metrics import accuracy_score\n",
    "\n",
    "from KeyEventTimeSeries import KeyEventTimeSeries"
   ]
  },
  {
   "cell_type": "code",
   "execution_count": null,
   "id": "3894a319",
   "metadata": {
    "pycharm": {
     "name": "#%%\n"
    }
   },
   "outputs": [],
   "source": [
    "help(KeyEventTimeSeries)"
   ]
  },
  {
   "cell_type": "markdown",
   "id": "41603c8b",
   "metadata": {
    "pycharm": {
     "name": "#%% md\n"
    }
   },
   "source": [
    "## Load data"
   ]
  },
  {
   "cell_type": "code",
   "execution_count": null,
   "id": "466c4c26",
   "metadata": {
    "pycharm": {
     "name": "#%%\n"
    }
   },
   "outputs": [],
   "source": [
    "ts = KeyEventTimeSeries()\n",
    "\n",
    "ts.load(\"../data/facing_left_baseline.pkl\")\n",
    "ts.load(\"../data/facing_left_anticycle_baseline.pkl\")\n",
    "ts.load(\"../data/facing_left_index.pkl\")\n",
    "#ts.load(\"../data/facing_left_middle.pkl\")\n",
    "#ts.load(\"../data/facing_left_ring.pkl\")\n",
    "#ts.load(\"../data/facing_left_pinky.pkl\")"
   ]
  },
  {
   "cell_type": "markdown",
   "id": "3753882d",
   "metadata": {
    "pycharm": {
     "name": "#%% md\n"
    }
   },
   "source": [
    "## Dataset Info"
   ]
  },
  {
   "cell_type": "code",
   "execution_count": null,
   "id": "95139616",
   "metadata": {
    "pycharm": {
     "name": "#%%\n"
    }
   },
   "outputs": [],
   "source": [
    "ts.data.sample(5)"
   ]
  },
  {
   "cell_type": "code",
   "execution_count": null,
   "id": "a793ab13",
   "metadata": {
    "pycharm": {
     "name": "#%%\n"
    }
   },
   "outputs": [],
   "source": [
    "ts.data.info()"
   ]
  },
  {
   "cell_type": "code",
   "execution_count": null,
   "id": "c8ca54a4",
   "metadata": {
    "pycharm": {
     "name": "#%%\n"
    }
   },
   "outputs": [],
   "source": [
    "ts.data.describe()"
   ]
  },
  {
   "cell_type": "markdown",
   "id": "b2968702",
   "metadata": {
    "pycharm": {
     "name": "#%% md\n"
    }
   },
   "source": [
    "## Data preparation: Convert to sktime format\n",
    "https://www.sktime.org/en/stable/"
   ]
  },
  {
   "cell_type": "code",
   "execution_count": null,
   "id": "7171b093",
   "metadata": {
    "pycharm": {
     "name": "#%%\n"
    }
   },
   "outputs": [],
   "source": [
    "df = ts.get_sktime_format(handedness=\"Left\", r=range(-15, 5), include_curl=False, include_orientation=False)"
   ]
  },
  {
   "cell_type": "code",
   "execution_count": null,
   "id": "b51dfee8",
   "metadata": {
    "pycharm": {
     "name": "#%%\n"
    }
   },
   "outputs": [],
   "source": [
    "ts.stats()"
   ]
  },
  {
   "cell_type": "code",
   "execution_count": null,
   "id": "dc0890fe",
   "metadata": {
    "pycharm": {
     "name": "#%%\n"
    }
   },
   "outputs": [],
   "source": [
    "df.sample(5)"
   ]
  },
  {
   "cell_type": "code",
   "execution_count": null,
   "id": "4af13220",
   "metadata": {
    "pycharm": {
     "name": "#%%\n"
    }
   },
   "outputs": [],
   "source": [
    "df.loc[1, \"Left Index Finger Distance\"]"
   ]
  },
  {
   "cell_type": "code",
   "execution_count": null,
   "id": "f2cd4012",
   "metadata": {
    "pycharm": {
     "name": "#%%\n"
    }
   },
   "outputs": [],
   "source": [
    "ts.plot(col=\"Left Index Finger Distance\")"
   ]
  },
  {
   "cell_type": "markdown",
   "id": "18897bd9",
   "metadata": {
    "pycharm": {
     "name": "#%% md\n"
    }
   },
   "source": [
    "## Forest Classifier\n",
    "https://www.sktime.org/en/stable/get_started.html"
   ]
  },
  {
   "cell_type": "code",
   "execution_count": null,
   "id": "ec6bf62d",
   "metadata": {
    "pycharm": {
     "name": "#%%\n"
    }
   },
   "outputs": [],
   "source": [
    "X = df.iloc[:, :-1]\n",
    "y = df.iloc[:, -1]\n",
    "X_train, X_test, y_train, y_test = train_test_split(X, y, shuffle=True)\n",
    "print(X_train.shape, y_train.shape, X_test.shape, y_test.shape)"
   ]
  },
  {
   "cell_type": "code",
   "execution_count": null,
   "id": "38c850d7",
   "metadata": {
    "pycharm": {
     "name": "#%%\n"
    }
   },
   "outputs": [],
   "source": [
    "steps = [\n",
    "    (\"concatenate\", ColumnConcatenator()),\n",
    "    (\"classify\", TimeSeriesForestClassifier(n_estimators=5, n_jobs=-1)), # n=100 is default]\n",
    "]\n",
    "clf = Pipeline(steps)\n",
    "\n",
    "# Set max depth\n",
    "clf[\"classify\"].base_estimator.max_depth = 12\n",
    "\n",
    "clf.fit(X_train, y_train)\n",
    "clf.score(X_test, y_test)"
   ]
  }
 ],
 "metadata": {
  "kernelspec": {
   "display_name": "Python 3 (ipykernel)",
   "language": "python",
   "name": "python3"
  },
  "language_info": {
   "codemirror_mode": {
    "name": "ipython",
    "version": 3
   },
   "file_extension": ".py",
   "mimetype": "text/x-python",
   "name": "python",
   "nbconvert_exporter": "python",
   "pygments_lexer": "ipython3",
   "version": "3.9.12"
  }
 },
 "nbformat": 4,
 "nbformat_minor": 5
}